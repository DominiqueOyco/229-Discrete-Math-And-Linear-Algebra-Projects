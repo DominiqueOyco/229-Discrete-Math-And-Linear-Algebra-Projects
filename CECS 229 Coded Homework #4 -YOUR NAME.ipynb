{
 "cells": [
  {
   "cell_type": "markdown",
   "metadata": {},
   "source": [
    "# CECS 229 Coded Homework #4 \n",
    "\n",
    "#### Submission Instructions:\n",
    "\n",
    "Complete the following.  When you are finished, rename this notebook so that your actual name replaces \"YOUR NAME\" in the current file name, and submit it to the dropbox.  For example, I would submit to the dropbox a file called \n",
    "\n",
    "`CECS 229 Homework #4 Coding Problems - KATHERINE VARELA.ipynb`\n",
    "\n"
   ]
  },
  {
   "cell_type": "markdown",
   "metadata": {},
   "source": [
    "#### Problem 1.\n",
    "\n",
    "Extend the implementation of the `Matrix` class that you wrote for Lab Assignment so that it overloads the `+`, `-`, and `*` operators.   "
   ]
  },
  {
   "cell_type": "code",
   "execution_count": 4,
   "metadata": {
    "collapsed": true
   },
   "outputs": [],
   "source": [
    "\"REPLACE THE BOTTOM WITH YOUR Matrix CLASS \"\n",
    "\n",
    "class Matrix:\n",
    "    \n",
    "    def __init__():  #FIXME: Replace with your code\n",
    "        pass\n",
    "    \n",
    "    def __add__(self, other):\n",
    "        pass #FIXME: REPLACE WITH IMPLEMENTATION\n",
    "    \n",
    "    def __sub__(self, other):\n",
    "        pass #FIXME: REPLACE WITH IMPLEMENTATION\n",
    "        \n",
    "    def __mul__(self, other):  \n",
    "        if type(other) == float:\n",
    "            print(\"FIXME: Insert implementation of MATRIX-SCALAR multiplication\")  #REPLACE\n",
    "        elif type(other) == Matrix:\n",
    "            print(\"FIXME: Insert implementation of MATRIX-MATRIX multiplication\") #REPLACE\n",
    "        elif type(other) == Vec:\n",
    "            print(\"FIXME: Insert implementation for MATRIX-VECTOR multiplication\")  #REPLACE\n",
    "        else:\n",
    "            print(\"ERROR: Unsupported Type.\")\n",
    "        return\n",
    "    \n",
    "    def __rmul__(self, other):  \n",
    "        if type(other) == float:\n",
    "            print(\"FIXME: Insert implementation of SCALAR-MATRIX multiplication\")  #REPLACE\n",
    "        else:\n",
    "            print(\"ERROR: Unsupported Type.\")"
   ]
  },
  {
   "cell_type": "code",
   "execution_count": 17,
   "metadata": {},
   "outputs": [
    {
     "name": "stdout",
     "output_type": "stream",
     "text": [
      "ERROR: Dimension mismatch.\n",
      "Matrix A\n",
      "1\t2\t\n",
      "3\t4\t\n",
      "5\t6\t\n",
      "\n",
      "Matrix C\n",
      "10\t20\t\n",
      "30\t40\t\n",
      "50\t60\t\n",
      "\n",
      "Matrix Q = A + C\n",
      "11\t22\t\n",
      "33\t44\t\n",
      "55\t66\t\n",
      "\n",
      "Matrix B\n",
      "1\t2\t\n",
      "1\t2\t\n",
      "\n",
      "Matrix T = -0.5 * B\n",
      "-0.5\t-1.0\t\n",
      "-0.5\t-1.0\t\n",
      "\n",
      "Matrix U = A * B\n",
      "3\t6\t\n",
      "7\t14\t\n",
      "11\t22\t\n",
      "\n"
     ]
    }
   ],
   "source": [
    "\"\"\"-----------------------------------TESTER CELL------------------------------------------------\"\"\"\n",
    "\"TESTING OPERATOR + \"\n",
    "\n",
    "A = Matrix([[1, 2],[3, 4],[5, 6]])\n",
    "B = Matrix([[1, 2],[1, 2]])\n",
    "C = Matrix([[10, 20],[30, 40],[50, 60]])\n",
    "\n",
    "P = A + B # dimension mismatch\n",
    "Q = A + C \n",
    "\n",
    "print(\"Matrix A\")           \n",
    "print(A)\n",
    "print()\n",
    "\n",
    "print(\"Matrix C\")           \n",
    "print(C)\n",
    "print()\n",
    "\n",
    "print(\"Matrix Q = A + C\")           \n",
    "print(Q)\n",
    "print()\n",
    "\n",
    "\"TESTING OPERATOR * \"\n",
    "# TESTING SCALAR-MATRIX MULTIPLICATION\n",
    "T = -0.5 * B     \n",
    "print(\"Matrix B\")\n",
    "print(B)\n",
    "print()\n",
    "\n",
    "print(\"Matrix T = -0.5 * B\")\n",
    "print(T)\n",
    "print()\n",
    "\n",
    "\n",
    "# TESTING MATRIX-MATRIX MULTIPLICATION\n",
    "U = A * B\n",
    "print(\"Matrix U = A * B\")\n",
    "print(U)\n",
    "print()\n",
    "\n",
    "\n",
    "# TESTING MATRIX-VECTOR MULTIPLICATION\n",
    "x = Vec([0, 1])  # Vec object\n",
    "b = A * x   # b is a Vec data type\n",
    "print(\"Vector b = A * x\")\n",
    "print(b) \n",
    " "
   ]
  },
  {
   "cell_type": "markdown",
   "metadata": {},
   "source": [
    "#### Problem 2.\n",
    "\n",
    "Yours truly likes to listen to a band called \"Alt-J\".  Take a look at the music video for their song, \"Matilda\" at https://www.youtube.com/watch?v=Q06wFUi5OM8.  The faces you see morphing into one another are the faces of the four members who were in the band at the time.  In this exercise you will explore how a simplified version of this \"morphing effect\" can be achieved.\n",
    "\n",
    "***Background:***\n",
    "\n",
    "First, keep in mind that a video is just a collection of several still images displayed with a speed fast enough to make the change from one image to another imperceptible to the human eye.  \n",
    "\n",
    "To make the discussion simpler, suppose the images are grayscale pictures.  We can represent a grayscale picture with $m \\times n$ pixels as a matrix $M \\in \\mathbb{R}_{m\\times n}$.  Each entry $m_{ij}$ of the matrix $M$ is the intensity value of the pixel at location $(i, j)$, [* Recall these values range from 0 (black) to 255 (white) *].  In the written homework problem set for vectors and vector spaces, you proved that $\\mathbb{R}_{m \\times n}$ is a vector space, hence given a set  $\\mathbb{I} \\subset \\mathbb{R}_{m \\times n}$ of two \"image-matrices\", we can form convex combinations of these two elements with the confidence that the resulting matrices will be in $\\mathbb{R}_{m \\times n}$. Let's express this a little more formally.\n",
    "\n",
    "Suppose $\\mathbb{I} = \\{I_i\\in \\mathbb{R}_{m\\times n} \\; | i = 1, 2\\}$ is a set of 2 matrices and $\\alpha_1, \\alpha_2 \\in \\mathbb{R}$ such that $\\alpha_1 + \\alpha_2 = 1$.  Then, \n",
    "\n",
    "$\\hspace{10cm} I = \\alpha_1 \\; I_1 + \\alpha_2 \\; I_2 \\in \\mathbb{R}_{m \\times n}$\n",
    "\n",
    "Think: what would the image corresponding to matrix $I$ look like if $I = 0.5 I_1 + 0.5 I_2$?  Since the images $I_1$ and $I_2$ make an equal contribution to the intensity of each pixel in $I$, we can expect the image to look like an equal mix of the two images. e.g. if the two images contain faces in more-or-less the same position, the resulting image should display a face that more-or-less looks like both faces.  \n",
    "\n",
    "What if $I = 0.85 I_1 + 0.15 I_2$?  Then, since most of the intensity in each pixel of $I$ is being contributed by $I_1$, we can expect the resulting image $I$ to display something that looks more like the first image, $I_1$, vs the second image, $I_2$.\n",
    "\n",
    "***Your tasks***\n",
    "\n",
    "1. Create the functions:\n",
    " * `png2graymatrix(filename)` - creates and returns a `Matrix` object with the image data returned by `file2image()` from the module `image` that you downloaded to complete Coded HW #3; `filename` is a string data type specifying the location of the image you wish to use.  If the image is not grayscale, you must convert it to grayscale prior to creating the `Matrix` object.  You can do so using the functions `isgray()` and `color2gray()`, also found in the `image` module.\n",
    " * `graymatrix2png(image_matrix, path)` - creates a png file out of a `Matrix` object.  You may want to use the function `image2file()` from the `image` module.\n",
    "2. Download and extract the zip folder `faces.zip`.  In it, you will find the images of 15 male faces and 5 female faces.  Use the functions from part 1. to create a program that generates a set of 100 images.  These images must be the result of taking convex combinations of the two faces you chose, so that one face appears to morph into the other. i.e. create 100 different convex combinations of the two images so that the 1st/100 picture looks completely like one face, the 50th/100 picture looks like both faces equally mixed together, and the 100th/100 picture looks like the second face only.  \n",
    "3. **EXTRA CREDIT** Pick 4 images, and modify your program from part 2. so that it generates a set of 400 pictures, where the first 100 pictures show the first face morphing into the second face, the second-hundred pictures show the second face morphing into the third face, and so on.\n",
    "\n",
    "4. **EXTRA-EXTRA CREDIT** Create a video using the images you generated in part 4. (you can generate and use more images to make the morphing-effect look nicer if you want).  I have attached the function `make_video()` (taken from http://www.xavierdupre.fr/blog/2016-03-30_nojs.html) for you to use, or you can come up with your own solution.  NOTE: if you intend to use the attached function, you will need to download and install OpenCV and Numpy, if you do not already have it installed.\n",
    "\n",
    "\n"
   ]
  },
  {
   "cell_type": "code",
   "execution_count": 8,
   "metadata": {
    "collapsed": true
   },
   "outputs": [],
   "source": [
    "import image\n",
    "def png2graymatrix(filename):\n",
    "    \"\"\"a single line of code should go here\"\"\"\n",
    "    if \"\"\"the image is not gray\"\"\":\n",
    "        image_data = \"\"\"get image data\"\"\"\n",
    "    return \"\"\"Matrix object\"\"\"\n",
    "\n",
    "def graymatrix2png(img_matrix, path):\n",
    "    \"\"\"two lines of code go here\"\"\""
   ]
  },
  {
   "cell_type": "code",
   "execution_count": 10,
   "metadata": {
    "collapsed": true
   },
   "outputs": [],
   "source": [
    "\"\"\"------------------TESTER FOR FUNCTIONS png2graymatrix() AND graymatrix2png()-------------------------\"\"\"\n",
    "M = png2graymatrix(\"male12.png\")  # matrix for male12.png\n",
    "F = png2graymatrix(\"female00.png\")  # matrix for female00.png\n",
    "C = M * 0.5 + F * 0.5   # convex combo: each image contributes half their instensity\n",
    "\n",
    "graymatrix2png(C, \"mixedfaces.png\")  # converting the matrix to png named mixedfaces"
   ]
  },
  {
   "cell_type": "code",
   "execution_count": 11,
   "metadata": {
    "collapsed": true
   },
   "outputs": [],
   "source": [
    "\"\"\"------------------EXTRA CREDIT: SEE TASK 4\"\"\"\n",
    "\n",
    "def make_video(images, outimg=None, fps=5, size=None,\n",
    "               is_color=True, format=\"XVID\"):\n",
    "    \"\"\"\n",
    "    Create a video from a list of images.\n",
    " \n",
    "    @param      outvid      output video\n",
    "    @param      images      list of images to use in the video\n",
    "    @param      fps         frame per second\n",
    "    @param      size        size of each frame\n",
    "    @param      is_color    color\n",
    "    @param      format      see http://www.fourcc.org/codecs.php\n",
    "    @return                 see http://opencv-python-tutroals.readthedocs.org/en/latest/py_tutorials/py_gui/py_video_display/py_video_display.html\n",
    " \n",
    "    The function relies on http://opencv-python-tutroals.readthedocs.org/en/latest/.\n",
    "    By default, the video will have the size of the first image.\n",
    "    It will resize every image to this size before adding them to the video.\n",
    "    \"\"\"\n",
    "    from cv2 import VideoWriter, VideoWriter_fourcc, imread, resize\n",
    "    fourcc = VideoWriter_fourcc(*format)\n",
    "    vid = None\n",
    "    for image in images:\n",
    "        if not os.path.exists(image):\n",
    "            raise FileNotFoundError(image)\n",
    "        img = imread(image)\n",
    "        if vid is None:\n",
    "            if size is None:\n",
    "                size = img.shape[1], img.shape[0]\n",
    "            vid = VideoWriter(outvid, fourcc, float(fps), size, is_color)\n",
    "        if size[0] != img.shape[1] and size[1] != img.shape[0]:\n",
    "            img = resize(img, size)\n",
    "        vid.write(img)\n",
    "    vid.release()\n",
    "    return vid"
   ]
  },
  {
   "cell_type": "code",
   "execution_count": null,
   "metadata": {
    "collapsed": true
   },
   "outputs": [],
   "source": [
    "\"\"\"------------------------SAMPLE USAGE-------------------\"\"\"\n",
    "images = []  #Initializing empty list of images\n",
    "\n",
    "for i in range(10):  # adding images male00.png - male01.png to the list\n",
    "    file = (\"male0%i.png\" % i)\n",
    "    images.append(file)\n",
    "    \n",
    "for i in range(10, 15): # adding images male10.png - male14.png to the list\n",
    "    file = ()\"male%i.png\" % i)\n",
    "    images.append(file)\n",
    "    \n",
    "print(images)  # Verifying images where added correctly\n",
    "make_video(images, format = \"MPEG4\")  #creating video"
   ]
  },
  {
   "cell_type": "markdown",
   "metadata": {
    "collapsed": true
   },
   "source": [
    "#### Problem 3a.\n",
    "\n",
    "Our goal is to eventually write a function `Matrix.solve(A,b)` that solves the problem of the form $A \\overrightarrow{x} = \\overrightarrow{b}$ for any $A \\in \\mathbb{F}_{n \\times n}$ and $b \\in \\mathbb{F}^{n}$.  For now, the most we know how to do is solve $A \\overrightarrow{x} = \\overrightarrow{b}$ when $A$ is upper triangular using the Backward Substitution Method you applied in # of the written problems.  \n",
    "\n",
    "Add the function `solve(A,b)` to the class `Matrix`, so that it solves $A \\overrightarrow{x} = \\overrightarrow{b}$ if $A$ is upper triangular.  If $A$ is not upper triangular, it should print the error message, `ERROR: Unsupported matrix type.`  *(HINT: The function `getdiag()` you implemented in problem 3, may prove to be useful.)*\n",
    "\n",
    "Test your function with the problem $A \\overrightarrow{x} = \\overrightarrow{b}$ with\n",
    "\n"
   ]
  },
  {
   "cell_type": "code",
   "execution_count": null,
   "metadata": {
    "collapsed": true
   },
   "outputs": [],
   "source": []
  },
  {
   "cell_type": "markdown",
   "metadata": {
    "collapsed": true
   },
   "source": [
    "#### Problem 3b.\n",
    "\n",
    "Are there any limitations to the Backward Substitution Method implemented in 3a?  Discuss.\n",
    "\n",
    "*Ans:*"
   ]
  },
  {
   "cell_type": "code",
   "execution_count": null,
   "metadata": {
    "collapsed": true
   },
   "outputs": [],
   "source": []
  }
 ],
 "metadata": {
  "anaconda-cloud": {},
  "kernelspec": {
   "display_name": "Python 3",
   "language": "python",
   "name": "python3"
  },
  "language_info": {
   "codemirror_mode": {
    "name": "ipython",
    "version": 3
   },
   "file_extension": ".py",
   "mimetype": "text/x-python",
   "name": "python",
   "nbconvert_exporter": "python",
   "pygments_lexer": "ipython3",
   "version": "3.6.5"
  }
 },
 "nbformat": 4,
 "nbformat_minor": 1
}
