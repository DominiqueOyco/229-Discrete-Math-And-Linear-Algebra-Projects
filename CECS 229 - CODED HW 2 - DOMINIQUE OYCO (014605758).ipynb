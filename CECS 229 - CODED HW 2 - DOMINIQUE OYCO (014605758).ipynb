{
 "cells": [
  {
   "cell_type": "markdown",
   "metadata": {},
   "source": [
    "## CECS 229 - CODED HOMEWORK 2\n",
    "Dominique Oyco - 014605758"
   ]
  },
  {
   "cell_type": "markdown",
   "metadata": {},
   "source": [
    "#1. Decrypt RSA"
   ]
  },
  {
   "cell_type": "code",
   "execution_count": 32,
   "metadata": {},
   "outputs": [],
   "source": [
    "def bezoutCoeffs(a, b):\n",
    "    x = 0\n",
    "    y = 1\n",
    "    a0 = a\n",
    "    b0 = b \n",
    "    lastx = 1\n",
    "    lasty = 0  \n",
    "    last = 0\n",
    "    \n",
    "    while b0 != 0:\n",
    "        quotient = int(a0 / b0)\n",
    "        a0, b0 = b0, a0 - quotient * b0\n",
    "        lastx, x = x, lastx - quotient * x\n",
    "        lasty, y = y, lasty - quotient * y\n",
    "    if(lastx >= 0):\n",
    "        last = lastx\n",
    "    elif(lastx < 0):\n",
    "        last = lastx + b\n",
    "    return (last)\n",
    "\n",
    "def decryptRSA(c, p, q, e):\n",
    "    alphabet = ['A', 'B', 'C', 'D', 'E', 'F', 'G', 'H', 'I', 'J', 'K', 'L', 'M', 'N', 'O', \n",
    "                'P', 'Q', 'R', 'S', 'T', 'U', 'V', 'W', 'X', 'Y', 'Z']\n",
    "    \n",
    "    c_copy = c.replace(\" \", \"\")\n",
    "    p0 = p - 1\n",
    "    q0 = q - 1\n",
    "    r = p0 * q0\n",
    "    r0 = p * q\n",
    "    s = 0\n",
    "    message = ''\n",
    "    convertint = []\n",
    "    convertCombine = []\n",
    "    size = len(c_copy)\n",
    "    fourDigits = 0\n",
    "    for j in range (0, size - 1, 4):\n",
    "        fourDigits = c_copy[j] + c_copy[j + 1] + c_copy[j + 2] + c_copy[j + 3]\n",
    "        c0 = int(fourDigits)\n",
    "        eBar = bezoutCoeffs(e, r)\n",
    "        c1 = (c0 ** eBar) % r0\n",
    "        convertint = [int(c1/1000), int((c1%1000)/100), int((c1%100)/10), int((c1%10))]\n",
    "        convertCombine = [(convertint[0] * 10) + convertint[1], (convertint[2]*10) + convertint[3]]\n",
    "        message = message + alphabet[convertCombine[0]] + alphabet[convertCombine[1]]\n",
    "    return(message)"
   ]
  },
  {
   "cell_type": "code",
   "execution_count": 38,
   "metadata": {},
   "outputs": [
    {
     "name": "stdout",
     "output_type": "stream",
     "text": [
      "UPLOAD\n"
     ]
    }
   ],
   "source": [
    "print(decryptRSA('254527571211', 61, 53, 17))"
   ]
  },
  {
   "cell_type": "markdown",
   "metadata": {},
   "source": [
    "#2. Encrypt RSA"
   ]
  },
  {
   "cell_type": "code",
   "execution_count": 36,
   "metadata": {},
   "outputs": [],
   "source": [
    "def encryptDSRSA(m, p, q, e):\n",
    "    alphabet = ['A', 'B', 'C', 'D', 'E', 'F', 'G', 'H', 'I', 'J', \n",
    "               'K', 'L', 'M', 'N', 'O', 'P', 'Q', 'R', 'S', 'T', 'U', 'V', 'W', 'X', 'Y', 'Z']\n",
    "    m_copy = m.replace(\" \", \"\")\n",
    "    p0 = p - 1\n",
    "    q0 = q - 1\n",
    "    r = p0 * q0\n",
    "    eInverse = bezoutCoeffs(e, r)\n",
    "    size = len(m_copy)\n",
    "    numbers = []\n",
    "    \n",
    "    for j in range(0, size , 1):\n",
    "        numbers.append(alphabet.index(m_copy[j]))\n",
    "    numberSize = len(numbers)\n",
    "    numberString =[]\n",
    "    for i in range(0, numberSize - 1, 2):\n",
    "        if numbers[i] < 10:\n",
    "            if numbers[i + 1] < 10:\n",
    "                numberString.append('0' + str(numbers[i]) + '0' + str(numbers[i + 1]))\n",
    "            else:\n",
    "                numberString.append('0' + str(numbers[i]) + str(numbers[i + 1]))\n",
    "        elif numbers[i + 1] < 10:\n",
    "            numberString.append(str(numbers[i]) + '0' + str(numbers[i + 1]))\n",
    "        else:\n",
    "            numberString.append(str(numbers[i]) + str(numbers[i + 1]))\n",
    "            \n",
    "    encryptedMessage = ''\n",
    "    \n",
    "    for k in range(0, len(numberString), 1):\n",
    "        c = (int(numberString[k]) ** eInverse) % (p * q)\n",
    "        cString = ''\n",
    "        if c < 10:\n",
    "            cString = '000' + str(c)\n",
    "        elif c < 100:\n",
    "            cString = '00' + str(c)\n",
    "        elif c < 1000:\n",
    "            cString = '0' + str(c)        \n",
    "        else:\n",
    "            cString = str(c)\n",
    "        encryptedMessage = encryptedMessage + cString\n",
    "    return(encryptedMessage)"
   ]
  },
  {
   "cell_type": "code",
   "execution_count": 39,
   "metadata": {},
   "outputs": [
    {
     "name": "stdout",
     "output_type": "stream",
     "text": [
      "08170555131021731026\n"
     ]
    }
   ],
   "source": [
    "print(encryptDSRSA('MEET AT NOON', 43, 59, 13))"
   ]
  },
  {
   "cell_type": "code",
   "execution_count": null,
   "metadata": {},
   "outputs": [],
   "source": []
  }
 ],
 "metadata": {
  "kernelspec": {
   "display_name": "Python 3",
   "language": "python",
   "name": "python3"
  },
  "language_info": {
   "codemirror_mode": {
    "name": "ipython",
    "version": 3
   },
   "file_extension": ".py",
   "mimetype": "text/x-python",
   "name": "python",
   "nbconvert_exporter": "python",
   "pygments_lexer": "ipython3",
   "version": "3.6.4"
  }
 },
 "nbformat": 4,
 "nbformat_minor": 2
}
