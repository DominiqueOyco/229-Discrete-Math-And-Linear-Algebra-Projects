{
 "cells": [
  {
   "cell_type": "markdown",
   "metadata": {},
   "source": [
    "# CECS 229 CODED HOMEWORK #1\n",
    "Dominique Oyco - 014605758\n"
   ]
  },
  {
   "cell_type": "markdown",
   "metadata": {},
   "source": [
    "#1. Binary Product"
   ]
  },
  {
   "cell_type": "code",
   "execution_count": 1,
   "metadata": {},
   "outputs": [],
   "source": [
    "def binaryProd(a,b):\n",
    "    x = len(a)\n",
    "    y = len(b)\n",
    "    deca = 0\n",
    "    decb = 0\n",
    "    ita = x-1\n",
    "    itb = y-1\n",
    "    \n",
    "    for j in range (x-1, -1, -1):\n",
    "        exp = (x - 1) - ita\n",
    "        if a[j] == ' ':\n",
    "            pass\n",
    "        else:\n",
    "            deca += 2 ** (exp) if a[j] == '1' else 0\n",
    "            ita -= 1\n",
    "        \n",
    "    for k in range (y-1, -1, -1):\n",
    "        exp = (y -1) - itb\n",
    "        if b[k] == ' ':\n",
    "            pass\n",
    "        else:\n",
    "            decb += 2 ** (exp) if b[k] == '1' else 0\n",
    "            itb -= 1\n",
    "            \n",
    "    total = int(deca * decb)   \n",
    "    p = ''\n",
    "    iterator = 1\n",
    "    \n",
    "    while total != 0:\n",
    "        r = total % 2\n",
    "        p = ('1' + p) if r == 1 else ('0' + p)\n",
    "        if (iterator%4 == 0):\n",
    "            p = ' ' + p\n",
    "        total = int(total / 2)\n",
    "        iterator += 1\n",
    "    return p"
   ]
  },
  {
   "cell_type": "code",
   "execution_count": 2,
   "metadata": {},
   "outputs": [
    {
     "name": "stdout",
     "output_type": "stream",
     "text": [
      " 1001 0100 1100\n"
     ]
    }
   ],
   "source": [
    "print(binaryProd(\"1 0100\" ,  \"111 0111\"))"
   ]
  },
  {
   "cell_type": "markdown",
   "metadata": {},
   "source": [
    "#2 prime factors"
   ]
  },
  {
   "cell_type": "code",
   "execution_count": 3,
   "metadata": {},
   "outputs": [],
   "source": [
    "def primeFactors(a):\n",
    "    i = 2               \n",
    "    l = []              \n",
    "    while i * i <= a: \n",
    "        if a % i:\n",
    "            i += 1\n",
    "        else:\n",
    "            a //= i\n",
    "            l.append(i)\n",
    "    if a > 1:\n",
    "        l.append(a)\n",
    "    return l"
   ]
  },
  {
   "cell_type": "code",
   "execution_count": 4,
   "metadata": {},
   "outputs": [
    {
     "name": "stdout",
     "output_type": "stream",
     "text": [
      "[2, 2, 3, 5]\n"
     ]
    }
   ],
   "source": [
    "print(primeFactors(60))"
   ]
  },
  {
   "cell_type": "markdown",
   "metadata": {},
   "source": [
    "#3 Bezout Coefficients"
   ]
  },
  {
   "cell_type": "code",
   "execution_count": 9,
   "metadata": {},
   "outputs": [],
   "source": [
    "def bezoutCoeffs(a, b):\n",
    "    x = 0\n",
    "    lastX = 1\n",
    "    y = 1\n",
    "    lastY = 0\n",
    "    b0 = b\n",
    "    a0 = a\n",
    "\n",
    "    while b0 != 0:\n",
    "        quotient = int(a0/b0)\n",
    "        a0, b0 = b0, a0 - quotient * b0\n",
    "        lastX, x = x, lastX - quotient * x\n",
    "        lastY, y = y, lastY - quotient * y\n",
    "\n",
    "    return (lastX, lastY)"
   ]
  },
  {
   "cell_type": "code",
   "execution_count": 10,
   "metadata": {},
   "outputs": [
    {
     "name": "stdout",
     "output_type": "stream",
     "text": [
      "(8, -5)\n"
     ]
    }
   ],
   "source": [
    "print(bezoutCoeffs(414, 662))"
   ]
  },
  {
   "cell_type": "markdown",
   "metadata": {},
   "source": [
    "#4 GCD"
   ]
  },
  {
   "cell_type": "code",
   "execution_count": 11,
   "metadata": {},
   "outputs": [],
   "source": [
    "def gcd(a,b):\n",
    "    d = 0\n",
    "    while b:\n",
    "        a, b = b, a % b\n",
    "        d = a\n",
    "    return d"
   ]
  },
  {
   "cell_type": "code",
   "execution_count": 12,
   "metadata": {},
   "outputs": [
    {
     "name": "stdout",
     "output_type": "stream",
     "text": [
      "2\n"
     ]
    }
   ],
   "source": [
    "print(gcd(414, 662))"
   ]
  },
  {
   "cell_type": "code",
   "execution_count": null,
   "metadata": {},
   "outputs": [],
   "source": []
  }
 ],
 "metadata": {
  "kernelspec": {
   "display_name": "Python 3",
   "language": "python",
   "name": "python3"
  },
  "language_info": {
   "codemirror_mode": {
    "name": "ipython",
    "version": 3
   },
   "file_extension": ".py",
   "mimetype": "text/x-python",
   "name": "python",
   "nbconvert_exporter": "python",
   "pygments_lexer": "ipython3",
   "version": "3.6.4"
  }
 },
 "nbformat": 4,
 "nbformat_minor": 2
}
